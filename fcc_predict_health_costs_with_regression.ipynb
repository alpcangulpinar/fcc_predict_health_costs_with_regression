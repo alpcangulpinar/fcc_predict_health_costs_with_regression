{
  "cells": [
    {
      "cell_type": "markdown",
      "metadata": {
        "id": "view-in-github",
        "colab_type": "text"
      },
      "source": [
        "<a href=\"https://colab.research.google.com/github/alpcangulpinar/fcc_predict_health_costs_with_regression/blob/main/fcc_predict_health_costs_with_regression.ipynb\" target=\"_parent\"><img src=\"https://colab.research.google.com/assets/colab-badge.svg\" alt=\"Open In Colab\"/></a>"
      ]
    },
    {
      "cell_type": "code",
      "execution_count": null,
      "metadata": {
        "id": "1rRo8oNqZ-Rj"
      },
      "outputs": [],
      "source": [
        "# Import libraries. You may or may not use all of these.\n",
        "!pip install -q git+https://github.com/tensorflow/docs\n",
        "import matplotlib.pyplot as plt\n",
        "import numpy as np\n",
        "import pandas as pd\n",
        "from sklearn.model_selection import train_test_split\n",
        "\n",
        "try:\n",
        "  # %tensorflow_version only exists in Colab.\n",
        "  %tensorflow_version 2.x\n",
        "except Exception:\n",
        "  pass\n",
        "import tensorflow as tf\n",
        "\n",
        "from tensorflow import keras\n",
        "from tensorflow.keras import layers\n",
        "\n",
        "import tensorflow_docs as tfdocs\n",
        "import tensorflow_docs.plots\n",
        "import tensorflow_docs.modeling"
      ]
    },
    {
      "cell_type": "code",
      "execution_count": null,
      "metadata": {
        "id": "CiX2FI4gZtTt"
      },
      "outputs": [],
      "source": [
        "from pandas.core.common import random_state\n",
        "# Import data\n",
        "!wget https://cdn.freecodecamp.org/project-data/health-costs/insurance.csv\n",
        "dataset = pd.read_csv('insurance.csv')\n",
        "dataset_train , dataset_test = train_test_split(dataset, test_size=0.2, random_state=42)\n",
        "dataset_test.shape\n",
        "\n",
        "y = np.array(dataset['expenses'])\n",
        "x = np.array(dataset.drop('expenses',axis=1))\n",
        "x_train , x_test ,y_train, y_test=train_test_split(x,y,test_size=0.2,random_state=2)\n",
        "train_labels =np.array(dataset_train.pop('expenses'))\n",
        "test_labels = np.array(dataset_test.pop('expenses'))\n",
        "print()"
      ]
    },
    {
      "cell_type": "code",
      "execution_count": null,
      "metadata": {
        "id": "LcopvQh3X-kX"
      },
      "outputs": [],
      "source": [
        "# Convert categorical columns into numeric\n",
        "CATEGORICAL_COLUMNS = ['sex', 'smoker', 'region']\n",
        "\n",
        "for column in CATEGORICAL_COLUMNS:\n",
        "  dataset[column] = dataset[column].astype('category').cat.codes\n"
      ]
    },
    {
      "cell_type": "code",
      "source": [
        "from sklearn.model_selection import train_test_split\n",
        "\n",
        "train_dataset , test_dataset = train_test_split(dataset, test_size=0.2, random_state=42)\n",
        "#dataset_test.shape\n",
        "#train_labels, test_labels = train_dataset.pop('expenses'), test_dataset.pop('expenses')\n",
        "train_labels = train_dataset.pop('expenses')\n",
        "test_labels = test_dataset.pop('expenses')"
      ],
      "metadata": {
        "id": "TQMRfj1kifpI"
      },
      "execution_count": null,
      "outputs": []
    },
    {
      "cell_type": "code",
      "source": [
        "from sklearn.linear_model import LinearRegression"
      ],
      "metadata": {
        "id": "xu1D185NfPxn"
      },
      "execution_count": null,
      "outputs": []
    },
    {
      "cell_type": "code",
      "source": [
        "from sklearn.linear_model import SGDRegressor\n",
        "from sklearn.preprocessing import StandardScaler\n",
        "\n",
        "# Verilerinizi standartlaştırın\n",
        "scaler = StandardScaler()\n",
        "train_dataset_scaled = scaler.fit_transform(train_dataset)\n",
        "test_dataset_scaled = scaler.transform(test_dataset)\n",
        "\n",
        "# SGDRegressor modelini oluşturun ve öğrenme oranını (learning rate) ayarlayın\n",
        "model = SGDRegressor(learning_rate='constant', eta0=0.01)\n",
        "\n",
        "# Modeli eğitin\n",
        "model.fit(train_dataset_scaled, train_labels)\n",
        "\n",
        "# Modelin performansını değerlendirin\n",
        "score = model.score(test_dataset_scaled, test_labels)\n"
      ],
      "metadata": {
        "id": "36CQcNMASkw8"
      },
      "execution_count": null,
      "outputs": []
    },
    {
      "cell_type": "code",
      "source": [
        "model = LinearRegression()"
      ],
      "metadata": {
        "id": "03sQSjyxfZci"
      },
      "execution_count": null,
      "outputs": []
    },
    {
      "cell_type": "code",
      "source": [
        "model.fit(train_dataset, train_labels)"
      ],
      "metadata": {
        "id": "a2y_ICLmjr9u"
      },
      "execution_count": null,
      "outputs": []
    },
    {
      "cell_type": "code",
      "source": [
        "model.score(test_dataset,test_labels)"
      ],
      "metadata": {
        "id": "A_5tYEPcmc_v"
      },
      "execution_count": null,
      "outputs": []
    },
    {
      "cell_type": "markdown",
      "source": [],
      "metadata": {
        "id": "oYc-0lqMHhAO"
      }
    },
    {
      "cell_type": "code",
      "source": [
        "model.score(train_dataset,train_labels)"
      ],
      "metadata": {
        "id": "AlerY2fdm3rC"
      },
      "execution_count": null,
      "outputs": []
    },
    {
      "cell_type": "code",
      "source": [
        "from sklearn.metrics import mean_absolute_error\n",
        "from sklearn.metrics import mean_squared_error\n",
        " #burada mse hesaplayınca son blok kontrol edecek\n",
        "#prd = np.array(model.predict(train_dataset))\n",
        "prd1 = model.predict(test_dataset)\n",
        "print(prd1)\n",
        "\n",
        "mae = mean_absolute_error(test_labels , prd1)\n",
        "#mse = mean_squared_error(test_labels, prd1 )\n",
        "#print(mse)\n",
        "print(mae)\n"
      ],
      "metadata": {
        "id": "AZVDwqhxr2il"
      },
      "execution_count": null,
      "outputs": []
    },
    {
      "cell_type": "code",
      "source": [
        "# RUN THIS CELL TO TEST YOUR MODEL. DO NOT MODIFY CONTENTS.\n",
        "# Test model by checking how well the model generalizes using the test set.\n",
        "#loss, mae, mse = model.evaluate(test_dataset, test_labels, verbose=2)\n",
        "\n",
        "print(\"Testing set Mean Abs Error: {:5.2f} expenses\".format(mae))\n",
        "\n",
        "\n",
        "\n",
        "# Plot predictions.\n",
        "test_predictions = model.predict(test_dataset).flatten()\n",
        "\n",
        "a = plt.axes(aspect='equal')\n",
        "plt.scatter(test_labels, test_predictions)\n",
        "plt.xlabel('True values (expenses)')\n",
        "plt.ylabel('Predictions (expenses)')\n",
        "lims = [0, 50000]\n",
        "plt.xlim(lims)\n",
        "plt.ylim(lims)\n",
        "_ = plt.plot(lims,lims)\n"
      ],
      "metadata": {
        "id": "yL51A8QqnLxN"
      },
      "execution_count": null,
      "outputs": []
    }
  ],
  "metadata": {
    "colab": {
      "private_outputs": true,
      "provenance": [],
      "include_colab_link": true
    },
    "kernelspec": {
      "display_name": "Python 3",
      "name": "python3"
    }
  },
  "nbformat": 4,
  "nbformat_minor": 0
}